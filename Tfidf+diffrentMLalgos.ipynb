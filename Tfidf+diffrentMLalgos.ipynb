{
 "cells": [
  {
   "cell_type": "code",
   "execution_count": 12,
   "metadata": {
    "colab": {
     "base_uri": "https://localhost:8080/",
     "height": 54
    },
    "colab_type": "code",
    "executionInfo": {
     "elapsed": 660,
     "status": "ok",
     "timestamp": 1551360355625,
     "user": {
      "displayName": "Abdou LARBI",
      "photoUrl": "https://lh6.googleusercontent.com/-cwJO9tUXEi4/AAAAAAAAAAI/AAAAAAAAAIw/FjYFBDWbhsQ/s64/photo.jpg",
      "userId": "11840885257439740060"
     },
     "user_tz": -60
    },
    "id": "-MzCAK_aDMLJ",
    "outputId": "bbc8ab54-3b9d-424a-9066-f517f4bd1ce4"
   },
   "outputs": [
    {
     "name": "stdout",
     "output_type": "stream",
     "text": [
      "Drive already mounted at /content/drive; to attempt to forcibly remount, call drive.mount(\"/content/drive\", force_remount=True).\n"
     ]
    }
   ],
   "source": [
    "import pandas as pd  \n",
    "import numpy as np\n",
    "import matplotlib.pyplot as plt\n",
    "from sklearn.feature_extraction.text import CountVectorizer\n",
    "from sklearn.linear_model import LogisticRegression\n",
    "from sklearn.pipeline import Pipeline\n",
    "plt.style.use('fivethirtyeight')\n",
    "import time\n",
    "%matplotlib inline\n",
    "%config InlineBackend.figure_format = 'retina'"
   ]
  },
  {
   "cell_type": "code",
   "execution_count": 3,
   "metadata": {
    "colab": {
     "base_uri": "https://localhost:8080/",
     "height": 258
    },
    "colab_type": "code",
    "executionInfo": {
     "elapsed": 5022,
     "status": "ok",
     "timestamp": 1551360306850,
     "user": {
      "displayName": "Abdou LARBI",
      "photoUrl": "https://lh6.googleusercontent.com/-cwJO9tUXEi4/AAAAAAAAAAI/AAAAAAAAAIw/FjYFBDWbhsQ/s64/photo.jpg",
      "userId": "11840885257439740060"
     },
     "user_tz": -60
    },
    "id": "kybWC9HaDWPt",
    "outputId": "886617f4-2efe-4a2a-b84f-ad6120de55f9"
   },
   "outputs": [
    {
     "name": "stderr",
     "output_type": "stream",
     "text": [
      "/usr/local/lib/python3.6/dist-packages/numpy/lib/arraysetops.py:472: FutureWarning: elementwise comparison failed; returning scalar instead, but in the future will perform elementwise comparison\n",
      "  mask |= (ar1 == a)\n"
     ]
    },
    {
     "data": {
      "text/html": [
       "<div>\n",
       "<style scoped>\n",
       "    .dataframe tbody tr th:only-of-type {\n",
       "        vertical-align: middle;\n",
       "    }\n",
       "\n",
       "    .dataframe tbody tr th {\n",
       "        vertical-align: top;\n",
       "    }\n",
       "\n",
       "    .dataframe thead th {\n",
       "        text-align: right;\n",
       "    }\n",
       "</style>\n",
       "<table border=\"1\" class=\"dataframe\">\n",
       "  <thead>\n",
       "    <tr style=\"text-align: right;\">\n",
       "      <th></th>\n",
       "      <th>text</th>\n",
       "      <th>target</th>\n",
       "    </tr>\n",
       "  </thead>\n",
       "  <tbody>\n",
       "    <tr>\n",
       "      <th>0</th>\n",
       "      <td>awww that bummer you shoulda got david carr of...</td>\n",
       "      <td>0</td>\n",
       "    </tr>\n",
       "    <tr>\n",
       "      <th>1</th>\n",
       "      <td>is upset that he can not update his facebook b...</td>\n",
       "      <td>0</td>\n",
       "    </tr>\n",
       "    <tr>\n",
       "      <th>2</th>\n",
       "      <td>dived many times for the ball managed to save ...</td>\n",
       "      <td>0</td>\n",
       "    </tr>\n",
       "    <tr>\n",
       "      <th>3</th>\n",
       "      <td>my whole body feels itchy and like its on fire</td>\n",
       "      <td>0</td>\n",
       "    </tr>\n",
       "    <tr>\n",
       "      <th>4</th>\n",
       "      <td>no it not behaving at all mad why am here beca...</td>\n",
       "      <td>0</td>\n",
       "    </tr>\n",
       "  </tbody>\n",
       "</table>\n",
       "</div>"
      ],
      "text/plain": [
       "                                                text  target\n",
       "0  awww that bummer you shoulda got david carr of...       0\n",
       "1  is upset that he can not update his facebook b...       0\n",
       "2  dived many times for the ball managed to save ...       0\n",
       "3     my whole body feels itchy and like its on fire       0\n",
       "4  no it not behaving at all mad why am here beca...       0"
      ]
     },
     "execution_count": 3,
     "metadata": {
      "tags": []
     },
     "output_type": "execute_result"
    }
   ],
   "source": [
    "csv = '/content/drive/My Drive/tweets/cleaned.csv'\n",
    "my_df = pd.read_csv(csv,index_col=0)\n",
    "my_df.head()"
   ]
  },
  {
   "cell_type": "code",
   "execution_count": 0,
   "metadata": {
    "colab": {},
    "colab_type": "code",
    "id": "b4iNaQinEIwb"
   },
   "outputs": [],
   "source": [
    "x=my_df.text\n",
    "y=my_df.target"
   ]
  },
  {
   "cell_type": "code",
   "execution_count": 0,
   "metadata": {
    "colab": {},
    "colab_type": "code",
    "id": "bjjs-QqoEgM3"
   },
   "outputs": [],
   "source": [
    "from sklearn.model_selection import train_test_split\n",
    "SEED = 2000\n",
    "x_train, x_validation_and_test, y_train, y_validation_and_test = train_test_split(x, y, test_size=.02, random_state=SEED)\n",
    "x_validation, x_test, y_validation, y_test = train_test_split(x_validation_and_test, y_validation_and_test, test_size=.5, random_state=SEED)\n"
   ]
  },
  {
   "cell_type": "code",
   "execution_count": 0,
   "metadata": {
    "colab": {},
    "colab_type": "code",
    "id": "BB7jgIB-EiSS"
   },
   "outputs": [],
   "source": [
    "from sklearn.metrics import accuracy_score\n",
    "from sklearn.linear_model import LogisticRegression\n",
    "from sklearn.pipeline import Pipeline\n",
    "from time import time"
   ]
  },
  {
   "cell_type": "code",
   "execution_count": 0,
   "metadata": {
    "colab": {},
    "colab_type": "code",
    "id": "euLfF_1pElYN"
   },
   "outputs": [],
   "source": [
    "def accuracy_summary(pipeline, x_train, y_train, x_test, y_test):\n",
    "    if len(x_test[y_test == 0]) / (len(x_test)*1.) > 0.5:\n",
    "        null_accuracy = len(x_test[y_test == 0]) / (len(x_test)*1.)\n",
    "    else:\n",
    "        null_accuracy = 1. - (len(x_test[y_test == 0]) / (len(x_test)*1.))\n",
    "    t0 = time.clock()\n",
    "    sentiment_fit = pipeline.fit(x_train, y_train)\n",
    "    y_pred = sentiment_fit.predict(x_test)\n",
    "    train_test_time = time.clock() - t0\n",
    "    accuracy = accuracy_score(y_test, y_pred)\n",
    "    print (\"null accuracy: {0:.2f}%\".format(null_accuracy*100))\n",
    "    print (\"accuracy score: {0:.2f}%\".format(accuracy*100))\n",
    "    if accuracy > null_accuracy:\n",
    "        print (\"model is {0:.2f}% more accurate than null accuracy\".format((accuracy-null_accuracy)*100))\n",
    "    elif accuracy == null_accuracy:\n",
    "        print (\"model has the same accuracy with the null accuracy\")\n",
    "    else:\n",
    "        print (\"model is {0:.2f}% less accurate than null accuracy\".format((null_accuracy-accuracy)*100))\n",
    "    print (\"train and test time: {0:.2f}s\".format(train_test_time))\n",
    "    print (\"-\"*80)\n",
    "    return accuracy, train_test_time"
   ]
  },
  {
   "cell_type": "code",
   "execution_count": 0,
   "metadata": {
    "colab": {},
    "colab_type": "code",
    "id": "RpUtTev4EoJy"
   },
   "outputs": [],
   "source": [
    "cvec = CountVectorizer()\n",
    "lr = LogisticRegression()\n",
    "n_features = np.arange(10000,100001,10000)"
   ]
  },
  {
   "cell_type": "code",
   "execution_count": 0,
   "metadata": {
    "colab": {},
    "colab_type": "code",
    "id": "HvKaUlitEsLb"
   },
   "outputs": [],
   "source": [
    "def nfeature_accuracy_checker(vectorizer=cvec, n_features=n_features, stop_words=None, ngram_range=(1, 1), classifier=lr):\n",
    "    result = []\n",
    "    print (classifier)\n",
    "    print (\"\\n\")\n",
    "    for n in n_features:\n",
    "        vectorizer.set_params(stop_words=stop_words, max_features=n, ngram_range=ngram_range)\n",
    "        checker_pipeline = Pipeline([\n",
    "            ('vectorizer', vectorizer),\n",
    "            ('classifier', classifier)\n",
    "        ])\n",
    "        print (\"Validation result for {} features\".format(n))\n",
    "        nfeature_accuracy,tt_time = accuracy_summary(checker_pipeline, x_train, y_train, x_validation, y_validation)\n",
    "        result.append((n,nfeature_accuracy,tt_time))\n",
    "    return result"
   ]
  },
  {
   "cell_type": "code",
   "execution_count": 0,
   "metadata": {
    "colab": {},
    "colab_type": "code",
    "id": "HGjpFRbMEuQy"
   },
   "outputs": [],
   "source": [
    "from sklearn.feature_extraction.text import TfidfVectorizer\n",
    "tvec = TfidfVectorizer()"
   ]
  },
  {
   "cell_type": "code",
   "execution_count": 14,
   "metadata": {
    "colab": {
     "base_uri": "https://localhost:8080/",
     "height": 1244
    },
    "colab_type": "code",
    "executionInfo": {
     "elapsed": 910738,
     "status": "ok",
     "timestamp": 1551361291477,
     "user": {
      "displayName": "Abdou LARBI",
      "photoUrl": "https://lh6.googleusercontent.com/-cwJO9tUXEi4/AAAAAAAAAAI/AAAAAAAAAIw/FjYFBDWbhsQ/s64/photo.jpg",
      "userId": "11840885257439740060"
     },
     "user_tz": -60
    },
    "id": "CocidYKcSD-B",
    "outputId": "b8cd0ad7-cc77-4b40-877e-3ebb6a636f62"
   },
   "outputs": [
    {
     "name": "stdout",
     "output_type": "stream",
     "text": [
      "RESULT FOR UNIGRAM WITH STOP WORDS (Tfidf)\n",
      "\n",
      "LogisticRegression(C=1.0, class_weight=None, dual=False, fit_intercept=True,\n",
      "          intercept_scaling=1, max_iter=100, multi_class='warn',\n",
      "          n_jobs=None, penalty='l2', random_state=None, solver='warn',\n",
      "          tol=0.0001, verbose=0, warm_start=False)\n",
      "\n",
      "\n",
      "Validation result for 10000 features\n"
     ]
    },
    {
     "name": "stderr",
     "output_type": "stream",
     "text": [
      "/usr/local/lib/python3.6/dist-packages/sklearn/linear_model/logistic.py:433: FutureWarning: Default solver will be changed to 'lbfgs' in 0.22. Specify a solver to silence this warning.\n",
      "  FutureWarning)\n"
     ]
    },
    {
     "name": "stdout",
     "output_type": "stream",
     "text": [
      "null accuracy: 50.06%\n",
      "accuracy score: 77.27%\n",
      "model is 27.21% more accurate than null accuracy\n",
      "train and test time: 81.71s\n",
      "--------------------------------------------------------------------------------\n",
      "Validation result for 20000 features\n",
      "null accuracy: 50.06%\n",
      "accuracy score: 77.60%\n",
      "model is 27.55% more accurate than null accuracy\n",
      "train and test time: 71.07s\n",
      "--------------------------------------------------------------------------------\n",
      "Validation result for 30000 features\n",
      "null accuracy: 50.06%\n",
      "accuracy score: 77.81%\n",
      "model is 27.75% more accurate than null accuracy\n",
      "train and test time: 63.91s\n",
      "--------------------------------------------------------------------------------\n",
      "Validation result for 40000 features\n",
      "null accuracy: 50.06%\n",
      "accuracy score: 77.87%\n",
      "model is 27.81% more accurate than null accuracy\n",
      "train and test time: 93.00s\n",
      "--------------------------------------------------------------------------------\n",
      "Validation result for 50000 features\n",
      "null accuracy: 50.06%\n",
      "accuracy score: 77.87%\n",
      "model is 27.81% more accurate than null accuracy\n",
      "train and test time: 91.28s\n",
      "--------------------------------------------------------------------------------\n",
      "Validation result for 60000 features\n",
      "null accuracy: 50.06%\n",
      "accuracy score: 77.85%\n",
      "model is 27.80% more accurate than null accuracy\n",
      "train and test time: 99.77s\n",
      "--------------------------------------------------------------------------------\n",
      "Validation result for 70000 features\n",
      "null accuracy: 50.06%\n",
      "accuracy score: 77.87%\n",
      "model is 27.81% more accurate than null accuracy\n",
      "train and test time: 100.86s\n",
      "--------------------------------------------------------------------------------\n",
      "Validation result for 80000 features\n",
      "null accuracy: 50.06%\n",
      "accuracy score: 77.90%\n",
      "model is 27.84% more accurate than null accuracy\n",
      "train and test time: 98.20s\n",
      "--------------------------------------------------------------------------------\n",
      "Validation result for 90000 features\n",
      "null accuracy: 50.06%\n",
      "accuracy score: 77.96%\n",
      "model is 27.90% more accurate than null accuracy\n",
      "train and test time: 103.07s\n",
      "--------------------------------------------------------------------------------\n",
      "Validation result for 100000 features\n",
      "null accuracy: 50.06%\n",
      "accuracy score: 77.95%\n",
      "model is 27.89% more accurate than null accuracy\n",
      "train and test time: 104.50s\n",
      "--------------------------------------------------------------------------------\n",
      "complete train and test time: 907.44s\n"
     ]
    }
   ],
   "source": [
    "tic = time.clock()\n",
    "print (\"RESULT FOR UNIGRAM WITH STOP WORDS (Tfidf)\\n\")\n",
    "feature_result_tgt = nfeature_accuracy_checker(vectorizer=tvec,ngram_range=(1, 1),stop_words='english')\n",
    "toc = time.clock()\n",
    "print (\"complete train and test time: {0:.2f}s\".format(toc-tic))"
   ]
  },
  {
   "cell_type": "code",
   "execution_count": 0,
   "metadata": {
    "colab": {
     "base_uri": "https://localhost:8080/",
     "height": 1244
    },
    "colab_type": "code",
    "executionInfo": {
     "elapsed": 919262,
     "status": "ok",
     "timestamp": 1550780408966,
     "user": {
      "displayName": "Abdou LARBI",
      "photoUrl": "https://lh6.googleusercontent.com/-cwJO9tUXEi4/AAAAAAAAAAI/AAAAAAAAAIw/FjYFBDWbhsQ/s64/photo.jpg",
      "userId": "11840885257439740060"
     },
     "user_tz": -60
    },
    "id": "X3COZAX0EwR8",
    "outputId": "b6ed2980-6180-40d3-bf09-e0791f9643e9"
   },
   "outputs": [
    {
     "name": "stdout",
     "output_type": "stream",
     "text": [
      "RESULT FOR UNIGRAM WITH STOP WORDS (Tfidf)\n",
      "\n",
      "LogisticRegression(C=1.0, class_weight=None, dual=False, fit_intercept=True,\n",
      "          intercept_scaling=1, max_iter=100, multi_class='warn',\n",
      "          n_jobs=None, penalty='l2', random_state=None, solver='warn',\n",
      "          tol=0.0001, verbose=0, warm_start=False)\n",
      "\n",
      "\n",
      "Validation result for 10000 features\n"
     ]
    },
    {
     "name": "stderr",
     "output_type": "stream",
     "text": [
      "/usr/local/lib/python3.6/dist-packages/sklearn/linear_model/logistic.py:433: FutureWarning: Default solver will be changed to 'lbfgs' in 0.22. Specify a solver to silence this warning.\n",
      "  FutureWarning)\n"
     ]
    },
    {
     "name": "stdout",
     "output_type": "stream",
     "text": [
      "null accuracy: 50.06%\n",
      "accuracy score: 80.03%\n",
      "model is 29.97% more accurate than null accuracy\n",
      "train and test time: 63.16s\n",
      "--------------------------------------------------------------------------------\n",
      "Validation result for 20000 features\n",
      "null accuracy: 50.06%\n",
      "accuracy score: 80.39%\n",
      "model is 30.33% more accurate than null accuracy\n",
      "train and test time: 68.87s\n",
      "--------------------------------------------------------------------------------\n",
      "Validation result for 30000 features\n",
      "null accuracy: 50.06%\n",
      "accuracy score: 80.43%\n",
      "model is 30.37% more accurate than null accuracy\n",
      "train and test time: 82.80s\n",
      "--------------------------------------------------------------------------------\n",
      "Validation result for 40000 features\n",
      "null accuracy: 50.06%\n",
      "accuracy score: 80.47%\n",
      "model is 30.41% more accurate than null accuracy\n",
      "train and test time: 97.86s\n",
      "--------------------------------------------------------------------------------\n",
      "Validation result for 50000 features\n",
      "null accuracy: 50.06%\n",
      "accuracy score: 80.50%\n",
      "model is 30.44% more accurate than null accuracy\n",
      "train and test time: 102.31s\n",
      "--------------------------------------------------------------------------------\n",
      "Validation result for 60000 features\n",
      "null accuracy: 50.06%\n",
      "accuracy score: 80.52%\n",
      "model is 30.46% more accurate than null accuracy\n",
      "train and test time: 89.05s\n",
      "--------------------------------------------------------------------------------\n",
      "Validation result for 70000 features\n",
      "null accuracy: 50.06%\n",
      "accuracy score: 80.54%\n",
      "model is 30.48% more accurate than null accuracy\n",
      "train and test time: 110.40s\n",
      "--------------------------------------------------------------------------------\n",
      "Validation result for 80000 features\n",
      "null accuracy: 50.06%\n",
      "accuracy score: 80.55%\n",
      "model is 30.50% more accurate than null accuracy\n",
      "train and test time: 107.64s\n",
      "--------------------------------------------------------------------------------\n",
      "Validation result for 90000 features\n",
      "null accuracy: 50.06%\n",
      "accuracy score: 80.52%\n",
      "model is 30.47% more accurate than null accuracy\n",
      "train and test time: 102.60s\n",
      "--------------------------------------------------------------------------------\n",
      "Validation result for 100000 features\n",
      "null accuracy: 50.06%\n",
      "accuracy score: 80.57%\n",
      "model is 30.51% more accurate than null accuracy\n",
      "train and test time: 93.62s\n",
      "--------------------------------------------------------------------------------\n",
      "complete train and test time: 918.39s\n"
     ]
    }
   ],
   "source": [
    "tic = time.clock()\n",
    "print (\"RESULT FOR UNIGRAM WITH STOP WORDS (Tfidf)\\n\")\n",
    "feature_result_ugt = nfeature_accuracy_checker(vectorizer=tvec)\n",
    "toc = time.clock()\n",
    "print (\"complete train and test time: {0:.2f}s\".format(toc-tic))"
   ]
  },
  {
   "cell_type": "code",
   "execution_count": 0,
   "metadata": {
    "colab": {
     "base_uri": "https://localhost:8080/",
     "height": 1244
    },
    "colab_type": "code",
    "executionInfo": {
     "elapsed": 1523328,
     "status": "ok",
     "timestamp": 1550791384308,
     "user": {
      "displayName": "Abdou LARBI",
      "photoUrl": "https://lh6.googleusercontent.com/-cwJO9tUXEi4/AAAAAAAAAAI/AAAAAAAAAIw/FjYFBDWbhsQ/s64/photo.jpg",
      "userId": "11840885257439740060"
     },
     "user_tz": -60
    },
    "id": "NzL-pN7bEzmG",
    "outputId": "9e201c4d-9748-47ef-9960-0adb47c9f5af"
   },
   "outputs": [
    {
     "name": "stdout",
     "output_type": "stream",
     "text": [
      "RESULT FOR BIGRAM WITH STOP WORDS (Tfidf)\n",
      "\n",
      "LogisticRegression(C=1.0, class_weight=None, dual=False, fit_intercept=True,\n",
      "          intercept_scaling=1, max_iter=100, multi_class='warn',\n",
      "          n_jobs=None, penalty='l2', random_state=None, solver='warn',\n",
      "          tol=0.0001, verbose=0, warm_start=False)\n",
      "\n",
      "\n",
      "Validation result for 10000 features\n"
     ]
    },
    {
     "name": "stderr",
     "output_type": "stream",
     "text": [
      "/usr/local/lib/python3.6/dist-packages/sklearn/linear_model/logistic.py:433: FutureWarning: Default solver will be changed to 'lbfgs' in 0.22. Specify a solver to silence this warning.\n",
      "  FutureWarning)\n"
     ]
    },
    {
     "name": "stdout",
     "output_type": "stream",
     "text": [
      "null accuracy: 50.06%\n",
      "accuracy score: 80.90%\n",
      "model is 30.84% more accurate than null accuracy\n",
      "train and test time: 127.29s\n",
      "--------------------------------------------------------------------------------\n",
      "Validation result for 20000 features\n",
      "null accuracy: 50.06%\n",
      "accuracy score: 81.66%\n",
      "model is 31.61% more accurate than null accuracy\n",
      "train and test time: 122.24s\n",
      "--------------------------------------------------------------------------------\n",
      "Validation result for 30000 features\n",
      "null accuracy: 50.06%\n",
      "accuracy score: 81.96%\n",
      "model is 31.91% more accurate than null accuracy\n",
      "train and test time: 131.53s\n",
      "--------------------------------------------------------------------------------\n",
      "Validation result for 40000 features\n",
      "null accuracy: 50.06%\n",
      "accuracy score: 82.13%\n",
      "model is 32.08% more accurate than null accuracy\n",
      "train and test time: 155.62s\n",
      "--------------------------------------------------------------------------------\n",
      "Validation result for 50000 features\n",
      "null accuracy: 50.06%\n",
      "accuracy score: 82.16%\n",
      "model is 32.11% more accurate than null accuracy\n",
      "train and test time: 162.10s\n",
      "--------------------------------------------------------------------------------\n",
      "Validation result for 60000 features\n",
      "null accuracy: 50.06%\n",
      "accuracy score: 82.25%\n",
      "model is 32.20% more accurate than null accuracy\n",
      "train and test time: 168.89s\n",
      "--------------------------------------------------------------------------------\n",
      "Validation result for 70000 features\n",
      "null accuracy: 50.06%\n",
      "accuracy score: 82.33%\n",
      "model is 32.27% more accurate than null accuracy\n",
      "train and test time: 168.63s\n",
      "--------------------------------------------------------------------------------\n",
      "Validation result for 80000 features\n",
      "null accuracy: 50.06%\n",
      "accuracy score: 82.39%\n",
      "model is 32.33% more accurate than null accuracy\n",
      "train and test time: 152.15s\n",
      "--------------------------------------------------------------------------------\n",
      "Validation result for 90000 features\n",
      "null accuracy: 50.06%\n",
      "accuracy score: 82.45%\n",
      "model is 32.40% more accurate than null accuracy\n",
      "train and test time: 173.40s\n",
      "--------------------------------------------------------------------------------\n",
      "Validation result for 100000 features\n",
      "null accuracy: 50.06%\n",
      "accuracy score: 82.42%\n",
      "model is 32.36% more accurate than null accuracy\n",
      "train and test time: 160.91s\n",
      "--------------------------------------------------------------------------------\n",
      "complete train and test time: 1522.95s\n"
     ]
    }
   ],
   "source": [
    "tic = time.clock()\n",
    "print (\"RESULT FOR BIGRAM WITHOUT STOP WORDS (Tfidf)\\n\")\n",
    "feature_result_bgt = nfeature_accuracy_checker(vectorizer=tvec,ngram_range=(1, 2))\n",
    "toc = time.clock()\n",
    "print (\"complete train and test time: {0:.2f}s\".format(toc-tic))\n"
   ]
  },
  {
   "cell_type": "code",
   "execution_count": 0,
   "metadata": {
    "colab": {
     "base_uri": "https://localhost:8080/",
     "height": 1244
    },
    "colab_type": "code",
    "executionInfo": {
     "elapsed": 2602131,
     "status": "ok",
     "timestamp": 1550784253082,
     "user": {
      "displayName": "Abdou LARBI",
      "photoUrl": "https://lh6.googleusercontent.com/-cwJO9tUXEi4/AAAAAAAAAAI/AAAAAAAAAIw/FjYFBDWbhsQ/s64/photo.jpg",
      "userId": "11840885257439740060"
     },
     "user_tz": -60
    },
    "id": "vbNdxQy9GAls",
    "outputId": "65bb7d03-e037-4a0d-9e37-a631b78e8579"
   },
   "outputs": [
    {
     "name": "stdout",
     "output_type": "stream",
     "text": [
      "RESULT FOR TRIGRAM WITH STOP WORDS (Tfidf)\n",
      "\n",
      "LogisticRegression(C=1.0, class_weight=None, dual=False, fit_intercept=True,\n",
      "          intercept_scaling=1, max_iter=100, multi_class='warn',\n",
      "          n_jobs=None, penalty='l2', random_state=None, solver='warn',\n",
      "          tol=0.0001, verbose=0, warm_start=False)\n",
      "\n",
      "\n",
      "Validation result for 10000 features\n"
     ]
    },
    {
     "name": "stderr",
     "output_type": "stream",
     "text": [
      "/usr/local/lib/python3.6/dist-packages/sklearn/linear_model/logistic.py:433: FutureWarning: Default solver will be changed to 'lbfgs' in 0.22. Specify a solver to silence this warning.\n",
      "  FutureWarning)\n"
     ]
    },
    {
     "name": "stdout",
     "output_type": "stream",
     "text": [
      "null accuracy: 50.06%\n",
      "accuracy score: 81.06%\n",
      "model is 31.00% more accurate than null accuracy\n",
      "train and test time: 204.18s\n",
      "--------------------------------------------------------------------------------\n",
      "Validation result for 20000 features\n",
      "null accuracy: 50.06%\n",
      "accuracy score: 81.63%\n",
      "model is 31.57% more accurate than null accuracy\n",
      "train and test time: 206.74s\n",
      "--------------------------------------------------------------------------------\n",
      "Validation result for 30000 features\n",
      "null accuracy: 50.06%\n",
      "accuracy score: 81.89%\n",
      "model is 31.83% more accurate than null accuracy\n",
      "train and test time: 222.41s\n",
      "--------------------------------------------------------------------------------\n",
      "Validation result for 40000 features\n",
      "null accuracy: 50.06%\n",
      "accuracy score: 82.06%\n",
      "model is 32.01% more accurate than null accuracy\n",
      "train and test time: 237.46s\n",
      "--------------------------------------------------------------------------------\n",
      "Validation result for 50000 features\n",
      "null accuracy: 50.06%\n",
      "accuracy score: 82.09%\n",
      "model is 32.04% more accurate than null accuracy\n",
      "train and test time: 239.44s\n",
      "--------------------------------------------------------------------------------\n",
      "Validation result for 60000 features\n",
      "null accuracy: 50.06%\n",
      "accuracy score: 82.16%\n",
      "model is 32.11% more accurate than null accuracy\n",
      "train and test time: 248.20s\n",
      "--------------------------------------------------------------------------------\n",
      "Validation result for 70000 features\n",
      "null accuracy: 50.06%\n",
      "accuracy score: 82.35%\n",
      "model is 32.30% more accurate than null accuracy\n",
      "train and test time: 251.05s\n",
      "--------------------------------------------------------------------------------\n",
      "Validation result for 80000 features\n",
      "null accuracy: 50.06%\n",
      "accuracy score: 82.45%\n",
      "model is 32.39% more accurate than null accuracy\n",
      "train and test time: 250.68s\n",
      "--------------------------------------------------------------------------------\n",
      "Validation result for 90000 features\n",
      "null accuracy: 50.06%\n",
      "accuracy score: 82.59%\n",
      "model is 32.53% more accurate than null accuracy\n",
      "train and test time: 254.95s\n",
      "--------------------------------------------------------------------------------\n",
      "Validation result for 100000 features\n",
      "null accuracy: 50.06%\n",
      "accuracy score: 82.56%\n",
      "model is 32.51% more accurate than null accuracy\n",
      "train and test time: 255.54s\n",
      "--------------------------------------------------------------------------------\n",
      "complete train and test time: 2370.71s\n"
     ]
    }
   ],
   "source": [
    "tic = time.clock()\n",
    "print (\"RESULT FOR TRIGRAM WITH STOP WORDS (Tfidf)\\n\")\n",
    "feature_result_tgt = nfeature_accuracy_checker(vectorizer=tvec,ngram_range=(1, 3))\n",
    "toc = time.clock()\n",
    "print (\"complete train and test time: {0:.2f}s\".format(toc-tic))"
   ]
  },
  {
   "cell_type": "code",
   "execution_count": 0,
   "metadata": {
    "colab": {
     "base_uri": "https://localhost:8080/",
     "height": 551
    },
    "colab_type": "code",
    "executionInfo": {
     "elapsed": 2049,
     "status": "ok",
     "timestamp": 1550795956028,
     "user": {
      "displayName": "Abdou LARBI",
      "photoUrl": "https://lh6.googleusercontent.com/-cwJO9tUXEi4/AAAAAAAAAAI/AAAAAAAAAIw/FjYFBDWbhsQ/s64/photo.jpg",
      "userId": "11840885257439740060"
     },
     "user_tz": -60
    },
    "id": "QiO2dxLHRcTj",
    "outputId": "257d563b-4ce4-43ac-9067-ffc998865034"
   },
   "outputs": [
    {
     "data": {
      "text/plain": [
       "<matplotlib.legend.Legend at 0x7fcc04c38080>"
      ]
     },
     "execution_count": 22,
     "metadata": {
      "tags": []
     },
     "output_type": "execute_result"
    },
    {
     "data": {
      "image/png": "[encoded data removed]",
      "text/plain": [
       "<Figure size 1296x576 with 1 Axes>"
      ]
     },
     "metadata": {
      "image/png": {
       "height": 497,
       "width": 1188
      },
      "tags": []
     },
     "output_type": "display_data"
    }
   ],
   "source": [
    "nfeatures_plot_tgt = pd.DataFrame(feature_result_tgt,columns=['nfeatures','validation_accuracy','train_test_time'])\n",
    "nfeatures_plot_bgt = pd.DataFrame(feature_result_bgt,columns=['nfeatures','validation_accuracy','train_test_time'])\n",
    "nfeatures_plot_ugt = pd.DataFrame(feature_result_ugt,columns=['nfeatures','validation_accuracy','train_test_time'])\n",
    "\n",
    "plt.figure(figsize=(18,8))\n",
    "\n",
    "plt.plot(nfeatures_plot_tgt.nfeatures, nfeatures_plot_tgt.validation_accuracy,label='trigram tfidf vectorizer',color='royalblue')\n",
    "#plt.plot(nfeatures_plot_tg.nfeatures, nfeatures_plot_tg.validation_accuracy,label='trigram count vectorizer',linestyle=':', color='royalblue')\n",
    "plt.plot(nfeatures_plot_bgt.nfeatures, nfeatures_plot_bgt.validation_accuracy,label='bigram tfidf vectorizer',color='orangered')\n",
    "#plt.plot(nfeatures_plot_bg.nfeatures, nfeatures_plot_bg.validation_accuracy,label='bigram count vectorizer',linestyle=':',color='orangered')\n",
    "plt.plot(nfeatures_plot_ugt.nfeatures, nfeatures_plot_ugt.validation_accuracy, label='unigram tfidf vectorizer',color='gold')\n",
    "#plt.plot(nfeatures_plot_ug.nfeatures, nfeatures_plot_ug.validation_accuracy, label='unigram count vectorizer',linestyle=':',color='gold')\n",
    "plt.title(\"N-gram(1~3) test result : Accuracy\")\n",
    "plt.xlabel(\"Number of features\")\n",
    "plt.ylabel(\"Validation set accuracy\")\n",
    "plt.legend()"
   ]
  },
  {
   "cell_type": "code",
   "execution_count": 0,
   "metadata": {
    "colab": {},
    "colab_type": "code",
    "id": "caNx-YQlRdj_"
   },
   "outputs": [],
   "source": []
  },
  {
   "cell_type": "markdown",
   "metadata": {
    "colab_type": "text",
    "id": "HlJaMROqwocW"
   },
   "source": [
    "**Algorithms Comparison**"
   ]
  },
  {
   "cell_type": "code",
   "execution_count": 0,
   "metadata": {
    "colab": {},
    "colab_type": "code",
    "id": "BB_rLSGgoybl"
   },
   "outputs": [],
   "source": [
    "from sklearn.neighbors import KNeighborsClassifier\n",
    "from sklearn.tree import DecisionTreeClassifier\n",
    "from sklearn.svm import LinearSVC\n",
    "from sklearn.ensemble import RandomForestClassifier, AdaBoostClassifier\n",
    "from sklearn.naive_bayes import MultinomialNB, BernoulliNB\n",
    "from sklearn.linear_model import RidgeClassifier\n",
    "from sklearn.linear_model import PassiveAggressiveClassifier\n",
    "from sklearn.linear_model import Perceptron\n",
    "from sklearn.neighbors import NearestCentroid\n",
    "from sklearn.feature_selection import SelectFromModel"
   ]
  },
  {
   "cell_type": "code",
   "execution_count": 0,
   "metadata": {
    "colab": {},
    "colab_type": "code",
    "id": "gIkj8ng3w056"
   },
   "outputs": [],
   "source": [
    "names = [\"Logistic Regression\", \"Linear SVC\", \"LinearSVC with L1-based feature selection\",\"Multinomial NB\", \n",
    "         \"Bernoulli NB\", \"Ridge Classifier\", \"AdaBoost\", \"Perceptron\",\"Passive-Aggresive\", \"Nearest Centroid\"]\n",
    "classifiers = [\n",
    "    LogisticRegression(),\n",
    "    LinearSVC(),\n",
    "    Pipeline([\n",
    "  ('feature_selection', SelectFromModel(LinearSVC(penalty=\"l1\", dual=False))),\n",
    "  ('classification', LinearSVC(penalty=\"l2\"))]),\n",
    "    MultinomialNB(),\n",
    "    BernoulliNB(),\n",
    "    RidgeClassifier(),\n",
    "    AdaBoostClassifier(),\n",
    "    Perceptron(),\n",
    "    PassiveAggressiveClassifier(),\n",
    "    NearestCentroid()\n",
    "    ]\n",
    "zipped_clf = zip(names,classifiers)\n"
   ]
  },
  {
   "cell_type": "markdown",
   "metadata": {
    "colab_type": "text",
    "id": "NtpPlLRixFGr"
   },
   "source": [
    "**Algorithm appliance function**"
   ]
  },
  {
   "cell_type": "code",
   "execution_count": 0,
   "metadata": {
    "colab": {},
    "colab_type": "code",
    "id": "0IvmKQmCw75g"
   },
   "outputs": [],
   "source": [
    "tvec = TfidfVectorizer()\n",
    "def classifier_comparator(vectorizer=tvec, n_features=10000, stop_words=None, ngram_range=(1, 1), classifier=zipped_clf):\n",
    "    result = []\n",
    "    vectorizer.set_params(stop_words=stop_words, max_features=n_features, ngram_range=ngram_range)\n",
    "    for n,c in classifier:\n",
    "        checker_pipeline = Pipeline([\n",
    "            ('vectorizer', vectorizer),\n",
    "            ('classifier', c)\n",
    "        ])\n",
    "        print (\"Validation result for {}\".format(n))\n",
    "        print (c)\n",
    "        clf_accuracy,tt_time = accuracy_summary(checker_pipeline, x_train, y_train, x_validation, y_validation)\n",
    "        result.append((n,clf_accuracy,tt_time))\n",
    "    return result"
   ]
  },
  {
   "cell_type": "code",
   "execution_count": 19,
   "metadata": {
    "colab": {
     "base_uri": "https://localhost:8080/",
     "height": 1754
    },
    "colab_type": "code",
    "executionInfo": {
     "elapsed": 3124216,
     "status": "ok",
     "timestamp": 1551371671538,
     "user": {
      "displayName": "Abdou LARBI",
      "photoUrl": "https://lh6.googleusercontent.com/-cwJO9tUXEi4/AAAAAAAAAAI/AAAAAAAAAIw/FjYFBDWbhsQ/s64/photo.jpg",
      "userId": "11840885257439740060"
     },
     "user_tz": -60
    },
    "id": "Uun1MsobxQiy",
    "outputId": "6cb03861-fa35-4582-f577-be8ffcb1d51b"
   },
   "outputs": [
    {
     "name": "stdout",
     "output_type": "stream",
     "text": [
      "Validation result for Logistic Regression\n",
      "LogisticRegression(C=1.0, class_weight=None, dual=False, fit_intercept=True,\n",
      "          intercept_scaling=1, max_iter=100, multi_class='warn',\n",
      "          n_jobs=None, penalty='l2', random_state=None, solver='warn',\n",
      "          tol=0.0001, verbose=0, warm_start=False)\n"
     ]
    },
    {
     "name": "stderr",
     "output_type": "stream",
     "text": [
      "/usr/local/lib/python3.6/dist-packages/sklearn/linear_model/logistic.py:433: FutureWarning: Default solver will be changed to 'lbfgs' in 0.22. Specify a solver to silence this warning.\n",
      "  FutureWarning)\n"
     ]
    },
    {
     "name": "stdout",
     "output_type": "stream",
     "text": [
      "null accuracy: 50.06%\n",
      "accuracy score: 82.56%\n",
      "model is 32.51% more accurate than null accuracy\n",
      "train and test time: 256.96s\n",
      "--------------------------------------------------------------------------------\n",
      "Validation result for Linear SVC\n",
      "LinearSVC(C=1.0, class_weight=None, dual=True, fit_intercept=True,\n",
      "     intercept_scaling=1, loss='squared_hinge', max_iter=1000,\n",
      "     multi_class='ovr', penalty='l2', random_state=None, tol=0.0001,\n",
      "     verbose=0)\n",
      "null accuracy: 50.06%\n",
      "accuracy score: 81.95%\n",
      "model is 31.89% more accurate than null accuracy\n",
      "train and test time: 220.25s\n",
      "--------------------------------------------------------------------------------\n",
      "Validation result for LinearSVC with L1-based feature selection\n",
      "Pipeline(memory=None,\n",
      "     steps=[('feature_selection', SelectFromModel(estimator=LinearSVC(C=1.0, class_weight=None, dual=False, fit_intercept=True,\n",
      "     intercept_scaling=1, loss='squared_hinge', max_iter=1000,\n",
      "     multi_class='ovr', penalty='l1', random_state=None, tol=0.0001,\n",
      "     verbose=0),\n",
      "        max_features=None, n...ax_iter=1000,\n",
      "     multi_class='ovr', penalty='l2', random_state=None, tol=0.0001,\n",
      "     verbose=0))])\n",
      "null accuracy: 50.06%\n",
      "accuracy score: 82.04%\n",
      "model is 31.99% more accurate than null accuracy\n",
      "train and test time: 388.73s\n",
      "--------------------------------------------------------------------------------\n",
      "Validation result for Multinomial NB\n",
      "MultinomialNB(alpha=1.0, class_prior=None, fit_prior=True)\n",
      "null accuracy: 50.06%\n",
      "accuracy score: 80.50%\n",
      "model is 30.45% more accurate than null accuracy\n",
      "train and test time: 175.05s\n",
      "--------------------------------------------------------------------------------\n",
      "Validation result for Bernoulli NB\n",
      "BernoulliNB(alpha=1.0, binarize=0.0, class_prior=None, fit_prior=True)\n",
      "null accuracy: 50.06%\n",
      "accuracy score: 79.28%\n",
      "model is 29.22% more accurate than null accuracy\n",
      "train and test time: 177.68s\n",
      "--------------------------------------------------------------------------------\n",
      "Validation result for Ridge Classifier\n",
      "RidgeClassifier(alpha=1.0, class_weight=None, copy_X=True, fit_intercept=True,\n",
      "        max_iter=None, normalize=False, random_state=None, solver='auto',\n",
      "        tol=0.001)\n",
      "null accuracy: 50.06%\n",
      "accuracy score: 81.95%\n",
      "model is 31.89% more accurate than null accuracy\n",
      "train and test time: 232.67s\n",
      "--------------------------------------------------------------------------------\n",
      "Validation result for AdaBoost\n",
      "AdaBoostClassifier(algorithm='SAMME.R', base_estimator=None,\n",
      "          learning_rate=1.0, n_estimators=50, random_state=None)\n",
      "null accuracy: 50.06%\n",
      "accuracy score: 69.93%\n",
      "model is 19.87% more accurate than null accuracy\n",
      "train and test time: 1130.86s\n",
      "--------------------------------------------------------------------------------\n",
      "Validation result for Perceptron\n",
      "Perceptron(alpha=0.0001, class_weight=None, early_stopping=False, eta0=1.0,\n",
      "      fit_intercept=True, max_iter=None, n_iter=None, n_iter_no_change=5,\n",
      "      n_jobs=None, penalty=None, random_state=0, shuffle=True, tol=None,\n",
      "      validation_fraction=0.1, verbose=0, warm_start=False)\n"
     ]
    },
    {
     "name": "stderr",
     "output_type": "stream",
     "text": [
      "/usr/local/lib/python3.6/dist-packages/sklearn/linear_model/stochastic_gradient.py:166: FutureWarning: max_iter and tol parameters have been added in Perceptron in 0.19. If both are left unset, they default to max_iter=5 and tol=None. If tol is not None, max_iter defaults to max_iter=1000. From 0.21, default max_iter will be 1000, and default tol will be 1e-3.\n",
      "  FutureWarning)\n"
     ]
    },
    {
     "name": "stdout",
     "output_type": "stream",
     "text": [
      "null accuracy: 50.06%\n",
      "accuracy score: 76.59%\n",
      "model is 26.54% more accurate than null accuracy\n",
      "train and test time: 180.86s\n",
      "--------------------------------------------------------------------------------\n",
      "Validation result for Passive-Aggresive\n",
      "PassiveAggressiveClassifier(C=1.0, average=False, class_weight=None,\n",
      "              early_stopping=False, fit_intercept=True, loss='hinge',\n",
      "              max_iter=None, n_iter=None, n_iter_no_change=5, n_jobs=None,\n",
      "              random_state=None, shuffle=True, tol=None,\n",
      "              validation_fraction=0.1, verbose=0, warm_start=False)\n"
     ]
    },
    {
     "name": "stderr",
     "output_type": "stream",
     "text": [
      "/usr/local/lib/python3.6/dist-packages/sklearn/linear_model/stochastic_gradient.py:166: FutureWarning: max_iter and tol parameters have been added in PassiveAggressiveClassifier in 0.19. If both are left unset, they default to max_iter=5 and tol=None. If tol is not None, max_iter defaults to max_iter=1000. From 0.21, default max_iter will be 1000, and default tol will be 1e-3.\n",
      "  FutureWarning)\n"
     ]
    },
    {
     "name": "stdout",
     "output_type": "stream",
     "text": [
      "null accuracy: 50.06%\n",
      "accuracy score: 79.36%\n",
      "model is 29.30% more accurate than null accuracy\n",
      "train and test time: 183.06s\n",
      "--------------------------------------------------------------------------------\n",
      "Validation result for Nearest Centroid\n",
      "NearestCentroid(metric='euclidean', shrink_threshold=None)\n",
      "null accuracy: 50.06%\n",
      "accuracy score: 72.81%\n",
      "model is 22.75% more accurate than null accuracy\n",
      "train and test time: 178.69s\n",
      "--------------------------------------------------------------------------------\n",
      "CPU times: user 51min 46s, sys: 18.6 s, total: 52min 4s\n",
      "Wall time: 52min 3s\n"
     ]
    }
   ],
   "source": [
    "%%time\n",
    "trigram_result = classifier_comparator(n_features=100000,ngram_range=(1,3))\n"
   ]
  },
  {
   "cell_type": "code",
   "execution_count": 41,
   "metadata": {
    "colab": {
     "base_uri": "https://localhost:8080/",
     "height": 221
    },
    "colab_type": "code",
    "executionInfo": {
     "elapsed": 764,
     "status": "ok",
     "timestamp": 1551373589341,
     "user": {
      "displayName": "Abdou LARBI",
      "photoUrl": "https://lh6.googleusercontent.com/-cwJO9tUXEi4/AAAAAAAAAAI/AAAAAAAAAIw/FjYFBDWbhsQ/s64/photo.jpg",
      "userId": "11840885257439740060"
     },
     "user_tz": -60
    },
    "id": "UCam0Z4bxWuJ",
    "outputId": "813d98fb-8a00-438c-f3f6-a91ff7c0d784"
   },
   "outputs": [
    {
     "data": {
      "text/plain": [
       "[('Logistic Regression', 0.8256484149855908, 256.96066099999996),\n",
       " ('Linear SVC', 0.8195088334795139, 220.24951099999998),\n",
       " ('LinearSVC with L1-based feature selection',\n",
       "  0.8204485653426888,\n",
       "  388.7258439999998),\n",
       " ('Multinomial NB', 0.8050369627866182, 175.0492529999999),\n",
       " ('Bernoulli NB', 0.7927577997744644, 177.68203900000003),\n",
       " ('Ridge Classifier', 0.8195088334795139, 232.6682740000001),\n",
       " ('AdaBoost', 0.699285803783987, 1130.8600270000002),\n",
       " ('Perceptron', 0.7659441172785365, 180.85620999999992),\n",
       " ('Passive-Aggresive', 0.7935722340558827, 183.06319600000006),\n",
       " ('Nearest Centroid', 0.7281042475880215, 178.69326500000034)]"
      ]
     },
     "execution_count": 41,
     "metadata": {
      "tags": []
     },
     "output_type": "execute_result"
    }
   ],
   "source": [
    "trigram_result"
   ]
  },
  {
   "cell_type": "code",
   "execution_count": 0,
   "metadata": {
    "colab": {},
    "colab_type": "code",
    "id": "1Urw3mX1_u0H"
   },
   "outputs": [],
   "source": [
    "df = pd.DataFrame(data=trigram_result,columns=['Classifier', 'accuracy', 'time'])\n",
    "df.accuracy = round(df.accuracy * 100 , 2)\n",
    "df.time = round(df.time,1)"
   ]
  },
  {
   "cell_type": "code",
   "execution_count": 67,
   "metadata": {
    "colab": {
     "base_uri": "https://localhost:8080/",
     "height": 359
    },
    "colab_type": "code",
    "executionInfo": {
     "elapsed": 746,
     "status": "ok",
     "timestamp": 1551374794953,
     "user": {
      "displayName": "Abdou LARBI",
      "photoUrl": "https://lh6.googleusercontent.com/-cwJO9tUXEi4/AAAAAAAAAAI/AAAAAAAAAIw/FjYFBDWbhsQ/s64/photo.jpg",
      "userId": "11840885257439740060"
     },
     "user_tz": -60
    },
    "id": "Sg-cezEiCH9x",
    "outputId": "236564c2-e839-4106-80ea-35ffdb589fc0"
   },
   "outputs": [
    {
     "data": {
      "text/html": [
       "<div>\n",
       "<style scoped>\n",
       "    .dataframe tbody tr th:only-of-type {\n",
       "        vertical-align: middle;\n",
       "    }\n",
       "\n",
       "    .dataframe tbody tr th {\n",
       "        vertical-align: top;\n",
       "    }\n",
       "\n",
       "    .dataframe thead th {\n",
       "        text-align: right;\n",
       "    }\n",
       "</style>\n",
       "<table border=\"1\" class=\"dataframe\">\n",
       "  <thead>\n",
       "    <tr style=\"text-align: right;\">\n",
       "      <th></th>\n",
       "      <th>Classifier</th>\n",
       "      <th>accuracy</th>\n",
       "      <th>time</th>\n",
       "    </tr>\n",
       "  </thead>\n",
       "  <tbody>\n",
       "    <tr>\n",
       "      <th>0</th>\n",
       "      <td>Logistic Regression</td>\n",
       "      <td>82.56</td>\n",
       "      <td>257.0</td>\n",
       "    </tr>\n",
       "    <tr>\n",
       "      <th>2</th>\n",
       "      <td>LinearSVC with L1-based feature selection</td>\n",
       "      <td>82.04</td>\n",
       "      <td>388.7</td>\n",
       "    </tr>\n",
       "    <tr>\n",
       "      <th>1</th>\n",
       "      <td>Linear SVC</td>\n",
       "      <td>81.95</td>\n",
       "      <td>220.2</td>\n",
       "    </tr>\n",
       "    <tr>\n",
       "      <th>5</th>\n",
       "      <td>Ridge Classifier</td>\n",
       "      <td>81.95</td>\n",
       "      <td>232.7</td>\n",
       "    </tr>\n",
       "    <tr>\n",
       "      <th>3</th>\n",
       "      <td>Multinomial NB</td>\n",
       "      <td>80.50</td>\n",
       "      <td>175.0</td>\n",
       "    </tr>\n",
       "    <tr>\n",
       "      <th>8</th>\n",
       "      <td>Passive-Aggresive</td>\n",
       "      <td>79.36</td>\n",
       "      <td>183.1</td>\n",
       "    </tr>\n",
       "    <tr>\n",
       "      <th>4</th>\n",
       "      <td>Bernoulli NB</td>\n",
       "      <td>79.28</td>\n",
       "      <td>177.7</td>\n",
       "    </tr>\n",
       "    <tr>\n",
       "      <th>7</th>\n",
       "      <td>Perceptron</td>\n",
       "      <td>76.59</td>\n",
       "      <td>180.9</td>\n",
       "    </tr>\n",
       "    <tr>\n",
       "      <th>9</th>\n",
       "      <td>Nearest Centroid</td>\n",
       "      <td>72.81</td>\n",
       "      <td>178.7</td>\n",
       "    </tr>\n",
       "    <tr>\n",
       "      <th>6</th>\n",
       "      <td>AdaBoost</td>\n",
       "      <td>69.93</td>\n",
       "      <td>1130.9</td>\n",
       "    </tr>\n",
       "  </tbody>\n",
       "</table>\n",
       "</div>"
      ],
      "text/plain": [
       "                                  Classifier  accuracy    time\n",
       "0                        Logistic Regression     82.56   257.0\n",
       "2  LinearSVC with L1-based feature selection     82.04   388.7\n",
       "1                                 Linear SVC     81.95   220.2\n",
       "5                           Ridge Classifier     81.95   232.7\n",
       "3                             Multinomial NB     80.50   175.0\n",
       "8                          Passive-Aggresive     79.36   183.1\n",
       "4                               Bernoulli NB     79.28   177.7\n",
       "7                                 Perceptron     76.59   180.9\n",
       "9                           Nearest Centroid     72.81   178.7\n",
       "6                                   AdaBoost     69.93  1130.9"
      ]
     },
     "execution_count": 67,
     "metadata": {
      "tags": []
     },
     "output_type": "execute_result"
    }
   ],
   "source": [
    "df.sort_values(by=['accuracy'], ascending=False)"
   ]
  },
  {
   "cell_type": "code",
   "execution_count": 0,
   "metadata": {
    "colab": {},
    "colab_type": "code",
    "id": "unzPn-y6G0bR"
   },
   "outputs": [],
   "source": []
  },
  {
   "cell_type": "code",
   "execution_count": 0,
   "metadata": {
    "colab": {},
    "colab_type": "code",
    "id": "r_sUSOOCIe-J"
   },
   "outputs": [],
   "source": []
  }
 ],
 "metadata": {
  "colab": {
   "name": "Tfidf.ipynb",
   "provenance": [],
   "version": "0.3.2"
  },
  "kernelspec": {
   "display_name": "Python 3",
   "language": "python",
   "name": "python3"
  },
  "language_info": {
   "codemirror_mode": {
    "name": "ipython",
    "version": 3
   },
   "file_extension": ".py",
   "mimetype": "text/x-python",
   "name": "python",
   "nbconvert_exporter": "python",
   "pygments_lexer": "ipython3",
   "version": "3.6.8"
  }
 },
 "nbformat": 4,
 "nbformat_minor": 1
}
